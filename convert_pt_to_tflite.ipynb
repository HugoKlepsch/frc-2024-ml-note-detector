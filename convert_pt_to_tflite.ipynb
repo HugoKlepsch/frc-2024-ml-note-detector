{
 "cells": [
  {
   "cell_type": "code",
   "execution_count": 1,
   "id": "04f7163c-896a-4f88-95a3-a1073e22b6c8",
   "metadata": {
    "ExecuteTime": {
     "end_time": "2024-01-31T14:48:58.075260543Z",
     "start_time": "2024-01-31T14:48:57.989254731Z"
    }
   },
   "outputs": [
    {
     "name": "stdout",
     "output_type": "stream",
     "text": [
      "Wed Jan 31 09:48:57 2024       \r\n",
      "+---------------------------------------------------------------------------------------+\r\n",
      "| NVIDIA-SMI 545.29.06              Driver Version: 545.29.06    CUDA Version: 12.3     |\r\n",
      "|-----------------------------------------+----------------------+----------------------+\r\n",
      "| GPU  Name                 Persistence-M | Bus-Id        Disp.A | Volatile Uncorr. ECC |\r\n",
      "| Fan  Temp   Perf          Pwr:Usage/Cap |         Memory-Usage | GPU-Util  Compute M. |\r\n",
      "|                                         |                      |               MIG M. |\r\n",
      "|=========================================+======================+======================|\r\n",
      "|   0  NVIDIA GeForce RTX 2080        Off | 00000000:01:00.0  On |                  N/A |\r\n",
      "|  0%   33C    P8              21W / 260W |   1034MiB /  8192MiB |      4%      Default |\r\n",
      "|                                         |                      |                  N/A |\r\n",
      "+-----------------------------------------+----------------------+----------------------+\r\n",
      "                                                                                         \r\n",
      "+---------------------------------------------------------------------------------------+\r\n",
      "| Processes:                                                                            |\r\n",
      "|  GPU   GI   CI        PID   Type   Process name                            GPU Memory |\r\n",
      "|        ID   ID                                                             Usage      |\r\n",
      "|=======================================================================================|\r\n",
      "|    0   N/A  N/A      1077      G   /usr/lib/Xorg                               385MiB |\r\n",
      "|    0   N/A  N/A      1357      G   /usr/bin/kwalletd5                            2MiB |\r\n",
      "|    0   N/A  N/A      1444      G   /usr/bin/ksmserver                            2MiB |\r\n",
      "|    0   N/A  N/A      1446      G   /usr/bin/kded5                                2MiB |\r\n",
      "|    0   N/A  N/A      1447      G   /usr/bin/kwin_x11                           212MiB |\r\n",
      "|    0   N/A  N/A      1490      G   /usr/bin/plasmashell                         78MiB |\r\n",
      "|    0   N/A  N/A      1533      G   ...b/polkit-kde-authentication-agent-1        2MiB |\r\n",
      "|    0   N/A  N/A      1535      G   /usr/lib/xdg-desktop-portal-kde               2MiB |\r\n",
      "|    0   N/A  N/A      1672      G   /usr/lib/kdeconnectd                          2MiB |\r\n",
      "|    0   N/A  N/A      1724      G   /usr/bin/kclockd                              2MiB |\r\n",
      "|    0   N/A  N/A      1738      G   /usr/bin/kaccess                              2MiB |\r\n",
      "|    0   N/A  N/A      1742      G   /usr/lib/DiscoverNotifier                     2MiB |\r\n",
      "|    0   N/A  N/A      1749      G   /usr/bin/kalendarac                           2MiB |\r\n",
      "|    0   N/A  N/A      1762      G   /usr/bin/kmix                                 2MiB |\r\n",
      "|    0   N/A  N/A      1841      G   /usr/lib/firefox/firefox                    226MiB |\r\n",
      "|    0   N/A  N/A      2226      G   /usr/bin/krunner                              9MiB |\r\n",
      "|    0   N/A  N/A      2275      G   /usr/lib/baloorunner                          2MiB |\r\n",
      "|    0   N/A  N/A      2549      G   /usr/bin/konsole                              2MiB |\r\n",
      "|    0   N/A  N/A      4626      G   /usr/bin/plasma-systemmonitor                66MiB |\r\n",
      "+---------------------------------------------------------------------------------------+\r\n"
     ]
    }
   ],
   "source": [
    "!nvidia-smi"
   ]
  },
  {
   "cell_type": "code",
   "execution_count": 2,
   "id": "cf56d7ed-a0ab-4cee-a8a6-7a50e9731a0b",
   "metadata": {},
   "outputs": [
    {
     "name": "stdout",
     "output_type": "stream",
     "text": [
      "Ultralytics YOLOv8.1.6 🚀 Python-3.11.6 torch-2.1.2+cu121 CUDA:0 (NVIDIA GeForce RTX 2080, 7972MiB)\n",
      "Setup complete ✅ (16 CPUs, 30.5 GB RAM, 798.8/1799.2 GB disk)\n"
     ]
    }
   ],
   "source": [
    "import ultralytics\n",
    "ultralytics.checks()"
   ]
  },
  {
   "cell_type": "code",
   "outputs": [
    {
     "name": "stdout",
     "output_type": "stream",
     "text": [
      "Ultralytics YOLOv8.1.6 🚀 Python-3.11.6 torch-2.1.2+cu121 CPU (AMD Ryzen 7 7700X 8-Core Processor)\n",
      "Model summary (fused): 168 layers, 3006233 parameters, 0 gradients, 8.1 GFLOPs\n",
      "\n",
      "\u001B[34m\u001B[1mPyTorch:\u001B[0m starting from 'best_bobot.pt' with input shape (1, 3, 640, 640) BCHW and output shape(s) (1, 7, 8400) (6.0 MB)\n",
      "\n",
      "\u001B[34m\u001B[1mTensorFlow SavedModel:\u001B[0m starting export with tensorflow 2.13.1...\n",
      "\n",
      "\u001B[34m\u001B[1mONNX:\u001B[0m starting export with onnx 1.15.0 opset 17...\n",
      "\u001B[34m\u001B[1mONNX:\u001B[0m simplifying with onnxsim 0.4.35...\n",
      "\u001B[34m\u001B[1mONNX:\u001B[0m export success ✅ 0.8s, saved as 'best_bobot.onnx' (11.7 MB)\n",
      "\u001B[34m\u001B[1mTensorFlow SavedModel:\u001B[0m running 'onnx2tf -i \"best_bobot.onnx\" -o \"best_bobot_saved_model\" -nuo --verbosity info -oiqt -qt per-tensor'\n"
     ]
    },
    {
     "name": "stderr",
     "output_type": "stream",
     "text": [
      "fully_quantize: 0, inference_type: 6, input_inference_type: FLOAT32, output_inference_type: FLOAT32\n",
      "fully_quantize: 0, inference_type: 6, input_inference_type: INT8, output_inference_type: INT8\n"
     ]
    },
    {
     "name": "stdout",
     "output_type": "stream",
     "text": [
      "\n",
      "\u001B[07mAutomatic generation of each OP name started\u001B[0m ========================================\n",
      "\u001B[32mAutomatic generation of each OP name complete!\u001B[0m\n",
      "\n",
      "\u001B[07mModel loaded\u001B[0m ========================================================================\n",
      "\n",
      "\u001B[07mModel conversion started\u001B[0m ============================================================\n",
      "\u001B[33mWARNING:\u001B[0m The optimization process for shape estimation is skipped because it contains OPs that cannot be inferred by the standard onnxruntime.\n",
      "\u001B[33mWARNING:\u001B[0m module 'onnx' has no attribute '_serialize'\n",
      "\u001B[07msaved_model output started\u001B[0m ==========================================================\n",
      "\u001B[32msaved_model output complete!\u001B[0m\n",
      "\u001B[32mFloat32 tflite output complete!\u001B[0m\n",
      "\u001B[32mFloat16 tflite output complete!\u001B[0m\n",
      "\u001B[34mInput signature information for quantization\u001B[0m\n",
      "\u001B[34msignature_name\u001B[0m: serving_default\n",
      "\u001B[34minput_name.0\u001B[0m: images \u001B[34mshape\u001B[0m: (1, 640, 640, 3) \u001B[34mdtype\u001B[0m: <dtype: 'float32'>\n",
      "\u001B[32mDynamic Range Quantization tflite output complete!\u001B[0m\n",
      "\u001B[32mINT8 Quantization tflite output complete!\u001B[0m\n",
      "\u001B[32mFull INT8 Quantization tflite output complete!\u001B[0m\n",
      "\u001B[32mINT8 Quantization with int16 activations tflite output complete!\u001B[0m\n",
      "\u001B[32mFull INT8 Quantization with int16 activations tflite output complete!\u001B[0m\n",
      "\u001B[34m\u001B[1mTensorFlow SavedModel:\u001B[0m export success ✅ 50.0s, saved as 'best_bobot_saved_model' (39.2 MB)\n",
      "\n",
      "\u001B[34m\u001B[1mTensorFlow Lite:\u001B[0m starting export with tensorflow 2.13.1...\n",
      "\u001B[34m\u001B[1mTensorFlow Lite:\u001B[0m export success ✅ 0.0s, saved as 'best_bobot_saved_model/best_bobot_int8.tflite' (3.1 MB)\n",
      "\n",
      "Export complete (51.2s)\n",
      "Results saved to \u001B[1m/home/hugo/git/frc-2024-ml-note-detector\u001B[0m\n",
      "Predict:         yolo predict task=detect model=best_bobot_saved_model/best_bobot_int8.tflite imgsz=640 int8 \n",
      "Validate:        yolo val task=detect model=best_bobot_saved_model/best_bobot_int8.tflite imgsz=640 data=/content/Notes-+-Bobots-1/data.yaml int8 \n",
      "Visualize:       https://netron.app\n"
     ]
    },
    {
     "data": {
      "text/plain": "'best_bobot_saved_model/best_bobot_int8.tflite'"
     },
     "execution_count": 3,
     "metadata": {},
     "output_type": "execute_result"
    }
   ],
   "source": [
    "model = ultralytics.YOLO('best_bobot.pt')\n",
    "model.export(format='tflite', int8=True, imgsz=640)"
   ],
   "metadata": {
    "collapsed": false,
    "ExecuteTime": {
     "end_time": "2024-01-31T14:49:54.190141599Z",
     "start_time": "2024-01-31T14:49:02.949021079Z"
    }
   },
   "id": "65ab6181dacc4006",
   "execution_count": 3
  },
  {
   "cell_type": "code",
   "outputs": [],
   "source": [],
   "metadata": {
    "collapsed": false
   },
   "id": "4c9b961c3c098983"
  }
 ],
 "metadata": {
  "kernelspec": {
   "display_name": "venv",
   "language": "python",
   "name": "venv"
  },
  "language_info": {
   "codemirror_mode": {
    "name": "ipython",
    "version": 3
   },
   "file_extension": ".py",
   "mimetype": "text/x-python",
   "name": "python",
   "nbconvert_exporter": "python",
   "pygments_lexer": "ipython3",
   "version": "3.11.6"
  }
 },
 "nbformat": 4,
 "nbformat_minor": 5
}
